{
 "cells": [
  {
   "cell_type": "code",
   "execution_count": 11,
   "metadata": {},
   "outputs": [],
   "source": [
    "# CALCULADORA SIMPLES\n",
    "\n",
    "import time\n",
    "\n",
    "def calculadora():\n",
    "    print('*** INICIANDO CALCULADORA ***')\n",
    "    time.sleep(1)\n",
    "    print('[...]')\n",
    "    time.sleep(1)\n",
    "    print('[...]')\n",
    "    time.sleep(1)\n",
    "    print('[...]')\n",
    "    time.sleep(1)\n",
    "    \n",
    "    # informações iniciais\n",
    "    print('Selecione o número da operação desejada:')\n",
    "    time.sleep(1)\n",
    "    print('1 - Soma')\n",
    "    time.sleep(1)\n",
    "    print('2 - Subtração')\n",
    "    time.sleep(1)\n",
    "    print('3 - Multiplicação')\n",
    "    time.sleep(1)\n",
    "    print('4 - Divisão')\n",
    "    time.sleep(1)\n",
    "    \n",
    "    # interação do usuário\n",
    "    op_desejada = int(input('Digite sua opção (1/2/3/4): '))\n",
    "    if op_desejada >= 5 or op_desejada <1:\n",
    "        print('Você digitou uma operação inválida. Reinicie o programa e tente novamente!')\n",
    "    else:\n",
    "        if op_desejada == 1:\n",
    "            num_1 = float(input('Digite o primeiro número: '))\n",
    "            num_2 = float(input('Digite o segundo número: '))\n",
    "            resultado = num_1 + num_2\n",
    "            print('{} + {} = {}'.format(num_1, num_2, resultado))\n",
    "        elif op_desejada == 2:\n",
    "            num_1 = float(input('Digite o primeiro número: '))\n",
    "            num_2 = float(input('Digite o segundo número: '))\n",
    "            resultado = num_1 - num_2\n",
    "            print('{} - {} = {}'.format(num_1, num_2, resultado))\n",
    "        elif op_desejada == 3:\n",
    "            num_1 = float(input('Digite o primeiro número: '))\n",
    "            num_2 = float(input('Digite o segundo número: '))\n",
    "            resultado = num_1 * num_2\n",
    "            print('{} * {} = + {}'.format(num_1, num_2, resultado))\n",
    "        elif op_desejada == 4:\n",
    "            num_1 = float(input('Digite o primeiro número: '))\n",
    "            num_2 = float(input('Digite o segundo número: '))\n",
    "            resultado = num_1 / num_2\n",
    "            print('{} / {} = {}'.format(num_1, num_2, resultado))\n",
    "        else:\n",
    "            print('Você digitou uma operação inválida. Reinicie o programa e tente novamente!')\n",
    "\n",
    "    print('***FIM***')"
   ]
  },
  {
   "cell_type": "code",
   "execution_count": null,
   "metadata": {},
   "outputs": [],
   "source": [
    "calculadora()"
   ]
  }
 ],
 "metadata": {
  "kernelspec": {
   "display_name": "base",
   "language": "python",
   "name": "python3"
  },
  "language_info": {
   "codemirror_mode": {
    "name": "ipython",
    "version": 3
   },
   "file_extension": ".py",
   "mimetype": "text/x-python",
   "name": "python",
   "nbconvert_exporter": "python",
   "pygments_lexer": "ipython3",
   "version": "3.9.13"
  },
  "orig_nbformat": 4,
  "vscode": {
   "interpreter": {
    "hash": "72ea4cb7ac67c66e5bc1785d98641c1094fc7f5c84dc1fff8f88c4d0657f4704"
   }
  }
 },
 "nbformat": 4,
 "nbformat_minor": 2
}
